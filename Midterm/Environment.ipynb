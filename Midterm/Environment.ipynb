{
 "cells": [
  {
   "cell_type": "code",
   "execution_count": 1,
   "metadata": {},
   "outputs": [],
   "source": [
    "import gym\n",
    "from gym.envs.registration import register"
   ]
  },
  {
   "cell_type": "code",
   "execution_count": 2,
   "metadata": {},
   "outputs": [],
   "source": [
    "class Environment():\n",
    "    def __init__(self):\n",
    "        if __name__ == '__main__':\n",
    "            pass\n",
    "    \n",
    "    def FrozenLakeNoSlippery(self):\n",
    "        register(\n",
    "            id = 'FrozenLakeNoSlippery-v0',\n",
    "            entry_point = 'gym.envs.toy_text:FrozenLakeEnv',\n",
    "            kwargs={'map_name' : '4x4', 'is_slippery': False},\n",
    "            max_episode_steps = 100,\n",
    "            reward_threshold = 0.82\n",
    "        )\n",
    "        \n",
    "        env=gym.make('FrozenLakeNoSlippery-v0')\n",
    "        return env"
   ]
  },
  {
   "cell_type": "code",
   "execution_count": null,
   "metadata": {},
   "outputs": [],
   "source": []
  },
  {
   "cell_type": "code",
   "execution_count": null,
   "metadata": {},
   "outputs": [],
   "source": []
  }
 ],
 "metadata": {
  "kernelspec": {
   "display_name": "Python 3",
   "language": "python",
   "name": "python3"
  },
  "language_info": {
   "codemirror_mode": {
    "name": "ipython",
    "version": 3
   },
   "file_extension": ".py",
   "mimetype": "text/x-python",
   "name": "python",
   "nbconvert_exporter": "python",
   "pygments_lexer": "ipython3",
   "version": "3.6.10"
  }
 },
 "nbformat": 4,
 "nbformat_minor": 4
}
